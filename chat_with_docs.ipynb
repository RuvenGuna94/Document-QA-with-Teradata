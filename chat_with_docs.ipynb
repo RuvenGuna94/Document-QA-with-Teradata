{
 "cells": [
  {
   "cell_type": "markdown",
   "metadata": {},
   "source": [
    "# Document Summarization\n",
    "\n",
    "## Introduction \n",
    "This demo showcases a chatbot system powered by Generative AI (OpenAI). Using technologies like <b>RAG, Langchain, and LLM models</b> users can ask questions in simple terms, retrieve relevant data, and receive concise answers. The approach integrates retrieval-based and generative techniques to deliver accurate, user-friendly insights from structured sources.\n",
    "\n",
    "The following diagram illustrates the overall architecture.\n",
    "\n",
    "<center><img src=\"images/header_chat_td.png\" alt=\"architecture\" /></center>\n",
    "\n",
    "# Steps in the analysis\n",
    "1. Configuring the environment  \n",
    "2. Connect to Vantage  \n",
    "3. Data Exploration  \n",
    "4. Generate the embeddings  \n",
    "5. Load the existing embeddings to DB  \n",
    "6. Calculate the VectorDistance using Teradata Vantage in-DB function  \n",
    "7. LLM  \n",
    "8. Chat with documents  \n",
    "9. Cleanup  \n"
   ]
  },
  {
   "cell_type": "markdown",
   "metadata": {},
   "source": []
  }
 ],
 "metadata": {
  "language_info": {
   "name": "python"
  }
 },
 "nbformat": 4,
 "nbformat_minor": 2
}
