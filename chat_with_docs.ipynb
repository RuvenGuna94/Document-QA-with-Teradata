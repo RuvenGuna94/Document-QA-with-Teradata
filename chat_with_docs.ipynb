{
 "cells": [
  {
   "cell_type": "markdown",
   "metadata": {},
   "source": [
    "# Document Summarization\n",
    "\n",
    "## Introduction \n",
    "This demo showcases a chatbot system powered by Generative AI. Using technologies like <b>RAG, Langchain, and LLM models</b> users can ask questions in simple terms, retrieve relevant data, and receive concise answers. The approach integrates retrieval-based and generative techniques to deliver accurate, user-friendly insights from structured sources.\n",
    "\n",
    "The following diagram illustrates the overall architecture.\n",
    "\n",
    "<center><img src=\"images/header_chat_td.png\" alt=\"architecture\" /></center>\n",
    "\n"
   ]
  },
  {
   "cell_type": "markdown",
   "metadata": {},
   "source": []
  }
 ],
 "metadata": {
  "language_info": {
   "name": "python"
  }
 },
 "nbformat": 4,
 "nbformat_minor": 2
}
